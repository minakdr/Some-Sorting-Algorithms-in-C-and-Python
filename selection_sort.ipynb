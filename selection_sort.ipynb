{
 "cells": [
  {
   "cell_type": "code",
   "execution_count": null,
   "metadata": {},
   "outputs": [],
   "source": [
    "import random\n",
    "\n",
    "# Selection sort works by repeatedly finding the smallest element from the unsorted part of the list\n",
    "# and swapping it with the first unsorted element.\n",
    "# The complexity is always O(n^2)\n",
    "\n",
    "def selection_sort(vector):\n",
    "    n = len(vector)\n",
    "    \n",
    "    for i in range(n - 1):\n",
    "        min_index = i\n",
    "        # Find the minimum element in the remaining unsorted part of the list\n",
    "        for j in range(i + 1, n):\n",
    "            if vector[j] < vector[min_index]:\n",
    "                min_index = j\n",
    "        \n",
    "        # Swap the found minimum element with the first unsorted element\n",
    "        vector[i], vector[min_index] = vector[min_index], vector[i]\n",
    "\n",
    "    print(\"Here is the ordered list of numbers:\")\n",
    "    for num in vector:\n",
    "        print(num)\n",
    "\n",
    "# Main function\n",
    "if __name__ == \"__main__\":\n",
    "    n = 100\n",
    "    vector = [random.randint(0, 999) for _ in range(n)]  # Generates a list of random numbers between 0 and 999\n",
    "\n",
    "    # Print the unordered vector\n",
    "    print(\"Here is an unordered list of numbers:\")\n",
    "    for num in vector:\n",
    "        print(num)\n",
    "\n",
    "    # Call the selection sort function\n",
    "    selection_sort(vector)\n"
   ]
  }
 ],
 "metadata": {
  "language_info": {
   "name": "python"
  }
 },
 "nbformat": 4,
 "nbformat_minor": 2
}
