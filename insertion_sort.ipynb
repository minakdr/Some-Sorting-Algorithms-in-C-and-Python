{
 "cells": [
  {
   "cell_type": "code",
   "execution_count": null,
   "metadata": {},
   "outputs": [],
   "source": [
    "import random\n",
    "\n",
    "# Insertion sort works by dividing the list into two parts: a sorted part and an unsorted part.\n",
    "# It picks elements from the unsorted part one by one and inserts them into the correct position in the sorted part.\n",
    "# This process is repeated until the entire list is sorted.\n",
    "\n",
    "# Complexity for worst case scenario : O(n^2)\n",
    "# Complexity for best case scenario : O(n)\n",
    "\n",
    "def insertion_sort(vector):\n",
    "    n = len(vector)\n",
    "    for i in range(1, n):\n",
    "        temp = vector[i]\n",
    "        j = i - 1\n",
    "        # We check if the values to the left are bigger than temp, if so we will shift the elements to the right\n",
    "        while j >= 0 and vector[j] > temp:\n",
    "            vector[j + 1] = vector[j]\n",
    "            j -= 1\n",
    "        # We put the temp value in the right spot\n",
    "        vector[j + 1] = temp\n",
    "\n",
    "    print(\"Here is the ordered list of numbers:\")\n",
    "    for num in vector:\n",
    "        print(num)\n",
    "\n",
    "# Main function\n",
    "if __name__ == \"__main__\":\n",
    "    n = 100\n",
    "    vector = [random.randint(0, 999) for _ in range(n)]  # Generates a list of random numbers between 0 and 999\n",
    "\n",
    "    # Now we print the unordered vector\n",
    "    print(\"Here is an unordered list of numbers:\")\n",
    "    for num in vector:\n",
    "        print(num)\n",
    "\n",
    "    # Now we call the function to sort the vector\n",
    "    insertion_sort(vector)\n"
   ]
  }
 ],
 "metadata": {
  "language_info": {
   "name": "python"
  }
 },
 "nbformat": 4,
 "nbformat_minor": 2
}
